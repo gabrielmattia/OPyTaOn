{
  "nbformat": 4,
  "nbformat_minor": 0,
  "metadata": {
    "colab": {
      "provenance": [],
      "collapsed_sections": [],
      "authorship_tag": "ABX9TyN0LN93S5Vm3R3+sOU6yJ2T",
      "include_colab_link": true
    },
    "kernelspec": {
      "name": "python3",
      "display_name": "Python 3"
    },
    "language_info": {
      "name": "python"
    }
  },
  "cells": [
    {
      "cell_type": "markdown",
      "metadata": {
        "id": "view-in-github",
        "colab_type": "text"
      },
      "source": [
        "<a href=\"https://colab.research.google.com/github/gabrielmattia/OPyTaOn/blob/main/Lexico.ipynb\" target=\"_parent\"><img src=\"https://colab.research.google.com/assets/colab-badge.svg\" alt=\"Open In Colab\"/></a>"
      ]
    },
    {
      "cell_type": "code",
      "execution_count": null,
      "metadata": {
        "id": "HnoFEPdV7ND4",
        "outputId": "c4244823-e728-491f-d284-f2616191ef70",
        "colab": {
          "base_uri": "https://localhost:8080/"
        }
      },
      "outputs": [
        {
          "output_type": "stream",
          "name": "stdout",
          "text": [
            "Looking in indexes: https://pypi.org/simple, https://us-python.pkg.dev/colab-wheels/public/simple/\n",
            "Collecting rply\n",
            "  Downloading rply-0.7.8-py2.py3-none-any.whl (16 kB)\n",
            "Requirement already satisfied: appdirs in /usr/local/lib/python3.7/dist-packages (from rply) (1.4.4)\n",
            "Installing collected packages: rply\n",
            "Successfully installed rply-0.7.8\n"
          ]
        }
      ],
      "source": [
        "!pip install rply"
      ]
    },
    {
      "cell_type": "code",
      "source": [
        "from rply import LexerGenerator\n",
        "\n",
        "# cria um objeto LexerGenerator\n",
        "lg = LexerGenerator()\n",
        "\n",
        "# insere as regras de formação (expressões regulares) dos tokens da linguagem\n",
        "\n",
        "#PREDEFINED IDENTIFIERS\n",
        "lg.add('VOID', r'void')\n",
        "lg.add('BOOLEAN', r'boolean')\n",
        "lg.add('TRUE', r'true')\n",
        "lg.add('FALSE', r'false')\n",
        "lg.add('READ', r'read')\n",
        "lg.add('INTEGER', r'integer')\n",
        "lg.add('WRITE', r'write')\n",
        "lg.add('LABELS', r'labels')\n",
        "lg.add('TYPES', r'types')\n",
        "lg.add('VARS', r'vars')\n",
        "lg.add('VAR', r'var')\n",
        "lg.add('GOTO', r'goto')\n",
        "lg.add('RETURN', r'return')\n",
        "lg.add('IF', r'if')\n",
        "lg.add('ELSE', r'else')\n",
        "lg.add('WHILE', r'while')\n",
        "\n",
        "\n",
        "lg.add('FUNCTIONS', r'functions')\n",
        "\n",
        "lg.add('EQUAL', r'\\==')\n",
        "lg.add('ATTR', r'\\=')\n",
        "\n",
        "lg.add('NOTEQUAL', r'!=')\n",
        "lg.add('NOT', r'\\!')\n",
        "\n",
        "lg.add('GREATEREQUALTHAN', r'>=')\n",
        "lg.add('GREATERTHAN', r'>')\n",
        "\n",
        "lg.add('LESSEREQUALTHAN', r'<=')\n",
        "lg.add('LESSERTHAN', r'<')\n",
        "\n",
        "lg.add('OR', r'\\|\\|')\n",
        "lg.add('AND', r'\\&\\&')\n",
        "\n",
        "\n",
        "lg.add('NUMBER', r'\\d+')\n",
        "lg.add('PLUS', r'\\+')\n",
        "lg.add('MINUS', r'-')\n",
        "lg.add('MUL', r'\\*')\n",
        "lg.add('DIV', r'/')\n",
        "lg.add('LPAREN', r'\\(')\n",
        "lg.add('RPAREN', r'\\)')\n",
        "lg.add('LCHAVE', r'\\{')\n",
        "lg.add('RCHAVE', r'\\}')\n",
        "lg.add('COMMA', r'\\,')\n",
        "lg.add('SEMICOLON', r'\\;')\n",
        "lg.add('COMMA', r'\\,')\n",
        "lg.add('COLON', r'\\:')\n",
        "lg.add('LBRACKET', r'\\[')\n",
        "lg.add('RBRACKET', r'\\]')\n",
        "lg.add('COLON', r'\\:')\n",
        "\n",
        "\n",
        "\n",
        "lg.add('ID', r'[a-z][a-z0-9]*')\n",
        "\n",
        "\n",
        "lg.add('MOD', r'%')\n",
        "\n",
        "# cria uma regra para ignorar caracteres de espaços\n",
        "lg.ignore('\\s+')\n",
        "lg.ignore('\\#.+')\n",
        "\n",
        "\n",
        "# contrói o analisador léxico\n",
        "lexer = lg.build()"
      ],
      "metadata": {
        "id": "423VnwlYAueK"
      },
      "execution_count": null,
      "outputs": []
    },
    {
      "cell_type": "code",
      "source": [
        "from rply.lexer import Token\n",
        "arquivo=open('teste')\n",
        "reserved = [\"integer\", \"boolean\", \"true\", \"false\", 'read','write','void','functions','while',\n",
        "            'if','else','return','goto','var','vars'\n",
        "          ]\n",
        "i=1;\n",
        "\n",
        "\n",
        "\n",
        "for linha in arquivo:\n",
        "    linha = linha.strip()\n",
        "    token=lexer.lex(linha.lower()) \n",
        "    try:\n",
        "      for t in token:\n",
        "        \n",
        "        if t.name == \"ID\" and t.value.lower() in reserved:\n",
        "        # yield t(t.value.upper(), t.value)\n",
        "          print(f'< {i}, RESERVED , {t.value:^9} >')\n",
        "        else:\n",
        "          print(f'< {i:^2}, {t.name:^16}, {t.value:^9} >')\n",
        "\n",
        "\n",
        "    except:\n",
        "      print(f'Erro lexico, linha {i} ')\n",
        "    i+=1\n"
      ],
      "metadata": {
        "colab": {
          "base_uri": "https://localhost:8080/"
        },
        "id": "PSanmJ99-DF1",
        "outputId": "92b154b7-099f-4644-90d6-cbe83a9301d9"
      },
      "execution_count": null,
      "outputs": [
        {
          "output_type": "stream",
          "name": "stdout",
          "text": [
            "< 1 ,        ID       ,   teste   >\n",
            "< 2 ,        ID       ,     a     >\n",
            "< 3 ,      NUMBER     ,     1     >\n",
            "Erro lexico, linha 4 \n",
            "< 5 ,      NUMBER     ,     2     >\n",
            "< 6 ,      NUMBER     ,     1     >\n",
            "< 6 ,        ID       ,     a     >\n"
          ]
        }
      ]
    },
    {
      "cell_type": "code",
      "source": [],
      "metadata": {
        "id": "sS1XBP-4dOV9"
      },
      "execution_count": null,
      "outputs": []
    }
  ]
}